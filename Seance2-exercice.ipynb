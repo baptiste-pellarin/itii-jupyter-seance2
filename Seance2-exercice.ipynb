{
 "cells": [
  {
   "cell_type": "markdown",
   "metadata": {},
   "source": [
    "# Exercices - TP 2\n",
    "##### Baptiste Pellarin - 23/09/2020 - 3IRC CPE Lyon"
   ]
  },
  {
   "cell_type": "markdown",
   "metadata": {},
   "source": [
    "## Exercice 1"
   ]
  },
  {
   "cell_type": "code",
   "execution_count": 23,
   "metadata": {},
   "outputs": [
    {
     "name": "stdout",
     "output_type": "stream",
     "text": [
      "test : %2d5 \n",
      "50\n",
      "156\n",
      "780\n"
     ]
    }
   ],
   "source": [
    "class Rectangle:\n",
    "    def __init__(self, longeur, largeur):\n",
    "        self.longueur = longeur\n",
    "        self.largeur = largeur\n",
    "        \n",
    "    def Perimetre(self):\n",
    "        return (self.longueur + self.largeur)*2\n",
    "    \n",
    "    def Surface(self):\n",
    "        return (self.longueur * self.largeur)\n",
    "        \n",
    "    def SetVar(self, longueur, largeur):\n",
    "        self.longueur = longueur\n",
    "        self.largeur = largeur\n",
    "        \n",
    "    def getLongeur(self):\n",
    "        return self.longueur\n",
    "    def getLargeur(self):\n",
    "        return self.longueur\n",
    "    \n",
    "    \n",
    "class Parallelepipede(Rectangle):\n",
    "    def __init__(self, longueur, largeur, hauteur):\n",
    "        super().__init__(longueur, largeur)\n",
    "        self.hauteur = hauteur\n",
    "        print(f\"test : {self.hauteur} \")\n",
    "        \n",
    "    def Volume(self):\n",
    "        return self.longueur * self.largeur * self.hauteur\n",
    "               \n",
    "paralepipede = Parallelepipede(12,13,5)\n",
    "\n",
    "print(paralepipede.Perimetre())\n",
    "print(paralepipede.Surface())\n",
    "print(paralepipede.Volume())"
   ]
  },
  {
   "cell_type": "markdown",
   "metadata": {},
   "source": [
    "## Exercice 2"
   ]
  },
  {
   "cell_type": "code",
   "execution_count": 11,
   "metadata": {},
   "outputs": [
    {
     "name": "stdout",
     "output_type": "stream",
     "text": [
      "[\t x: 150   \t]\n",
      "[\t y: 45   \t]\n",
      "[\t x: 200   \t]\n",
      "[\t y: 100   \t]\n"
     ]
    }
   ],
   "source": [
    "\n",
    "class Vecteur2D:\n",
    "    def __init__(self, x, y):\n",
    "        self.x : int = x\n",
    "        self.y : int = y\n",
    "    \n",
    "    def Affiche(self):\n",
    "        print('[\\t x:', self.x, '  \\t]')\n",
    "        print('[\\t y:', self.y, '  \\t]')\n",
    "        \n",
    "    def __add__(self, vecteur):\n",
    "        return Vecteur2D(self.x + vecteur.x, self.y + vecteur.y)\n",
    "        \n",
    "        \n",
    "vecteur = Vecteur2D(150, 45)\n",
    "\n",
    "vecteur.Affiche()\n",
    "    \n",
    "vecteur2 = Vecteur2D(50, 55)\n",
    "\n",
    "vecteur3 = vecteur + vecteur2\n",
    "\n",
    "vecteur3.Affiche()"
   ]
  },
  {
   "cell_type": "markdown",
   "metadata": {},
   "source": [
    "## Exercice 3"
   ]
  },
  {
   "cell_type": "code",
   "execution_count": 25,
   "metadata": {},
   "outputs": [
    {
     "name": "stdout",
     "output_type": "stream",
     "text": [
      "{'test2': 2}\n",
      "{'test': 1}\n",
      "Pile vide\n",
      "None\n",
      "{'test': 1}\n",
      "{'test2': 2}\n",
      "Liste vide\n",
      "None\n"
     ]
    }
   ],
   "source": [
    "class Pile:\n",
    "    def __init__(self):\n",
    "        self.queue = []\n",
    "        pass\n",
    "    \n",
    "    def push(self, data : any):\n",
    "        self.queue.append(data)\n",
    "        \n",
    "    def pop(self):\n",
    "        if len(self.queue) > 0:\n",
    "            return self.queue.pop(len(self.queue) - 1)\n",
    "        else:\n",
    "            print(\"Pile vide\")\n",
    "            \n",
    "class File:\n",
    "    def __init__(self):\n",
    "        self.queue = []\n",
    "        pass\n",
    "    \n",
    "    def push(self, data : any):\n",
    "        self.queue.append(data)\n",
    "        \n",
    "    def pop(self):\n",
    "        if len(self.queue) > 0:\n",
    "            return self.queue.pop(0)\n",
    "        else:\n",
    "            print(\"Liste vide\")\n",
    "    \n",
    "pile = Pile()\n",
    "file = File()\n",
    "\n",
    "data1 = {\"test\": 1}\n",
    "data2 = {\"test2\": 2}\n",
    "\n",
    "pile.push(data1)\n",
    "pile.push(data2)\n",
    "file.push(data1)\n",
    "file.push(data2)\n",
    "\n",
    "\n",
    "print(pile.pop())\n",
    "print(pile.pop())\n",
    "print(pile.pop())\n",
    "\n",
    "\n",
    "print(file.pop())\n",
    "print(file.pop())\n",
    "print(file.pop())\n",
    "\n",
    "    "
   ]
  },
  {
   "cell_type": "code",
   "execution_count": null,
   "metadata": {},
   "outputs": [],
   "source": []
  }
 ],
 "metadata": {
  "kernelspec": {
   "display_name": "Python 3",
   "language": "python",
   "name": "python3"
  },
  "language_info": {
   "codemirror_mode": {
    "name": "ipython",
    "version": 3
   },
   "file_extension": ".py",
   "mimetype": "text/x-python",
   "name": "python",
   "nbconvert_exporter": "python",
   "pygments_lexer": "ipython3",
   "version": "3.7.6"
  }
 },
 "nbformat": 4,
 "nbformat_minor": 4
}
